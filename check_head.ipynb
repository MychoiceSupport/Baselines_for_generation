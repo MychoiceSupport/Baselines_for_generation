{
 "cells": [
  {
   "cell_type": "code",
   "execution_count": 1,
   "id": "initial_id",
   "metadata": {
    "collapsed": true,
    "ExecuteTime": {
     "end_time": "2024-12-02T12:37:39.825789900Z",
     "start_time": "2024-12-02T12:37:36.796230300Z"
    }
   },
   "outputs": [
    {
     "name": "stdout",
     "output_type": "stream",
     "text": [
      "[ 1.55000000e+02 -5.03220013e-01  4.32326548e+00 -6.80939991e-02\n",
      " -5.37490129e-01 -9.95152250e-01  2.10000000e+01  2.10000000e+01]\n",
      "[[ 2.50000000e+02  4.88065177e-01 -9.18954619e-01 -9.16588750e-01\n",
      "   1.35913038e+00  1.45675700e+00  3.30000000e+01  9.00000000e+00]\n",
      " [ 1.40000000e+02 -7.87415859e-01 -9.87480372e-01 -9.35236987e-01\n",
      "  -6.43018639e-01 -5.98119071e-01  3.80000000e+01  2.90000000e+01]\n",
      " [ 1.26000000e+02  6.16877091e-02 -7.73996295e-01 -7.02134033e-01\n",
      "   4.82019478e-01  5.94862720e-01  7.20000000e+01  7.80000000e+01]\n",
      " [ 1.31000000e+02 -6.20165431e-01 -5.15706919e-01 -7.48754624e-01\n",
      "  -4.59576825e-01 -5.32373873e-01  6.80000000e+01  1.90000000e+01]]\n",
      "(10000, 8)\n"
     ]
    }
   ],
   "source": [
    "import numpy as np\n",
    "\n",
    "data = np.load('heads.npy', allow_pickle=True)\n",
    "print(data[0])\n",
    "print(data[1:5])\n",
    "print(data.shape)"
   ]
  },
  {
   "cell_type": "code",
   "execution_count": null,
   "outputs": [],
   "source": [],
   "metadata": {
    "collapsed": false
   },
   "id": "12cc87d8bedc4d6f"
  }
 ],
 "metadata": {
  "kernelspec": {
   "display_name": "Python 3",
   "language": "python",
   "name": "python3"
  },
  "language_info": {
   "codemirror_mode": {
    "name": "ipython",
    "version": 2
   },
   "file_extension": ".py",
   "mimetype": "text/x-python",
   "name": "python",
   "nbconvert_exporter": "python",
   "pygments_lexer": "ipython2",
   "version": "2.7.6"
  }
 },
 "nbformat": 4,
 "nbformat_minor": 5
}
